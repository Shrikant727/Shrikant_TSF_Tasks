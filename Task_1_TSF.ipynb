{
  "nbformat": 4,
  "nbformat_minor": 0,
  "metadata": {
    "colab": {
      "name": "Task_1 TSF.ipynb",
      "provenance": [],
      "authorship_tag": "ABX9TyObQS5zVU9pkopmyz1DonAO",
      "include_colab_link": true
    },
    "kernelspec": {
      "name": "python3",
      "display_name": "Python 3"
    },
    "language_info": {
      "name": "python"
    }
  },
  "cells": [
    {
      "cell_type": "markdown",
      "metadata": {
        "id": "view-in-github",
        "colab_type": "text"
      },
      "source": [
        "<a href=\"https://colab.research.google.com/github/Shrikant727/Shrikant_TSF_Tasks/blob/main/Task_1_TSF.ipynb\" target=\"_parent\"><img src=\"https://colab.research.google.com/assets/colab-badge.svg\" alt=\"Open In Colab\"/></a>"
      ]
    },
    {
      "cell_type": "markdown",
      "metadata": {
        "id": "WbxHG0mCx0f_"
      },
      "source": [
        "# **Shrikant S. Bhadgaonkar**\n",
        "Pict,Pune\n",
        "\n",
        "---\n",
        "\n",
        "\n",
        "Hello everyone! This is my submission to **Task 1** in the Grip program by **The Sparks Foundation**.\n",
        "This notebook is written in **google colaboratory**.\n",
        "I have used **Skikitlearn and Matplotlib** libraries for my code.\n",
        "This code uses simple linear regressions to predict the score of a student based on his/her hours of study.\n"
      ]
    },
    {
      "cell_type": "code",
      "metadata": {
        "id": "IKZMRFWKzXGP"
      },
      "source": [
        "#importing all required libraries\n",
        "import pandas as pd\n",
        "import matplotlib.pyplot as plt  \n",
        "import numpy as np\n",
        "%matplotlib inline\n",
        "#this command ensures that the graphs are generated directly below the code in a jupyter notebook."
      ],
      "execution_count": null,
      "outputs": []
    },
    {
      "cell_type": "code",
      "metadata": {
        "colab": {
          "base_uri": "https://localhost:8080/"
        },
        "id": "-99n8zwy1eHy",
        "outputId": "36533ae7-9fb2-40a1-a292-4a1f420f82df"
      },
      "source": [
        "%pip install fsspec\n",
        "#for accessing data from a remote file system"
      ],
      "execution_count": null,
      "outputs": [
        {
          "output_type": "stream",
          "text": [
            "Collecting fsspec\n",
            "\u001b[?25l  Downloading https://files.pythonhosted.org/packages/40/e1/7111d8afc76ee3171f4f99592cd29bac9d233ae1aa34623011506f955434/fsspec-2021.7.0-py3-none-any.whl (118kB)\n",
            "\r\u001b[K     |██▊                             | 10kB 11.3MB/s eta 0:00:01\r\u001b[K     |█████▌                          | 20kB 16.9MB/s eta 0:00:01\r\u001b[K     |████████▎                       | 30kB 17.5MB/s eta 0:00:01\r\u001b[K     |███████████                     | 40kB 14.6MB/s eta 0:00:01\r\u001b[K     |█████████████▉                  | 51kB 5.4MB/s eta 0:00:01\r\u001b[K     |████████████████▋               | 61kB 5.9MB/s eta 0:00:01\r\u001b[K     |███████████████████▍            | 71kB 6.1MB/s eta 0:00:01\r\u001b[K     |██████████████████████▏         | 81kB 6.0MB/s eta 0:00:01\r\u001b[K     |█████████████████████████       | 92kB 6.3MB/s eta 0:00:01\r\u001b[K     |███████████████████████████▊    | 102kB 6.6MB/s eta 0:00:01\r\u001b[K     |██████████████████████████████▌ | 112kB 6.6MB/s eta 0:00:01\r\u001b[K     |████████████████████████████████| 122kB 6.6MB/s \n",
            "\u001b[?25hInstalling collected packages: fsspec\n",
            "Successfully installed fsspec-2021.7.0\n"
          ],
          "name": "stdout"
        }
      ]
    },
    {
      "cell_type": "code",
      "metadata": {
        "colab": {
          "base_uri": "https://localhost:8080/",
          "height": 204
        },
        "id": "ZBQCpP5O0wvK",
        "outputId": "c5e76a2d-4f09-4985-ad5d-cabf377bff4a"
      },
      "source": [
        "#reading data from url\n",
        "sample_data=pd.read_csv(\"http://bit.ly/w-data\")\n",
        "sample_data.sample(n=5)\n",
        "#prints 5 random entries from the data"
      ],
      "execution_count": null,
      "outputs": [
        {
          "output_type": "execute_result",
          "data": {
            "text/html": [
              "<div>\n",
              "<style scoped>\n",
              "    .dataframe tbody tr th:only-of-type {\n",
              "        vertical-align: middle;\n",
              "    }\n",
              "\n",
              "    .dataframe tbody tr th {\n",
              "        vertical-align: top;\n",
              "    }\n",
              "\n",
              "    .dataframe thead th {\n",
              "        text-align: right;\n",
              "    }\n",
              "</style>\n",
              "<table border=\"1\" class=\"dataframe\">\n",
              "  <thead>\n",
              "    <tr style=\"text-align: right;\">\n",
              "      <th></th>\n",
              "      <th>Hours</th>\n",
              "      <th>Scores</th>\n",
              "    </tr>\n",
              "  </thead>\n",
              "  <tbody>\n",
              "    <tr>\n",
              "      <th>23</th>\n",
              "      <td>6.9</td>\n",
              "      <td>76</td>\n",
              "    </tr>\n",
              "    <tr>\n",
              "      <th>18</th>\n",
              "      <td>6.1</td>\n",
              "      <td>67</td>\n",
              "    </tr>\n",
              "    <tr>\n",
              "      <th>10</th>\n",
              "      <td>7.7</td>\n",
              "      <td>85</td>\n",
              "    </tr>\n",
              "    <tr>\n",
              "      <th>21</th>\n",
              "      <td>4.8</td>\n",
              "      <td>54</td>\n",
              "    </tr>\n",
              "    <tr>\n",
              "      <th>9</th>\n",
              "      <td>2.7</td>\n",
              "      <td>25</td>\n",
              "    </tr>\n",
              "  </tbody>\n",
              "</table>\n",
              "</div>"
            ],
            "text/plain": [
              "    Hours  Scores\n",
              "23    6.9      76\n",
              "18    6.1      67\n",
              "10    7.7      85\n",
              "21    4.8      54\n",
              "9     2.7      25"
            ]
          },
          "metadata": {
            "tags": []
          },
          "execution_count": 5
        }
      ]
    },
    {
      "cell_type": "code",
      "metadata": {
        "colab": {
          "base_uri": "https://localhost:8080/",
          "height": 295
        },
        "id": "DtitY3Vg4I89",
        "outputId": "c11f7471-3533-4a04-e6b7-2cdfb987b97f"
      },
      "source": [
        "#ploting the data to get an idea about polarity\n",
        "sample_data.plot('Hours','Scores',color='green',marker='o',linestyle='None')\n",
        "plt.set_color='green'\n",
        "plt.title('Hours Vs Score')\n",
        "plt.xlabel('Hours')\n",
        "plt.ylabel('Scores')\n",
        "plt.show()"
      ],
      "execution_count": null,
      "outputs": [
        {
          "output_type": "display_data",
          "data": {
            "image/png": "[encoded data removed]",
            "text/plain": [
              "<Figure size 432x288 with 1 Axes>"
            ]
          },
          "metadata": {
            "tags": [],
            "needs_background": "light"
          }
        }
      ]
    },
    {
      "cell_type": "code",
      "metadata": {
        "id": "DuFokm0QR52i"
      },
      "source": [
        "#preparing the training data\n",
        "X=np.array(sample_data.Hours)\n",
        "y=np.array(sample_data.Scores)\n",
        "X=X.reshape((X.shape[0],1))\n"
      ],
      "execution_count": null,
      "outputs": []
    },
    {
      "cell_type": "code",
      "metadata": {
        "id": "m1sOEEBDlE9E"
      },
      "source": [
        "from sklearn.model_selection import train_test_split  \n",
        "X_train, X_test, y_train, y_test = train_test_split(X, y,test_size=0.2, random_state=0)\n",
        "#spliting the data into training and validation data"
      ],
      "execution_count": null,
      "outputs": []
    },
    {
      "cell_type": "code",
      "metadata": {
        "colab": {
          "base_uri": "https://localhost:8080/"
        },
        "id": "xeCysZ_gl_cW",
        "outputId": "8aec5b63-536b-4b84-ee39-f98e01b1f292"
      },
      "source": [
        "from sklearn.linear_model import LinearRegression\n",
        "reg=LinearRegression(fit_intercept=False)\n",
        "reg.fit(X_train,y_train)\n",
        "#training the model"
      ],
      "execution_count": null,
      "outputs": [
        {
          "output_type": "execute_result",
          "data": {
            "text/plain": [
              "LinearRegression(copy_X=True, fit_intercept=False, n_jobs=None, normalize=False)"
            ]
          },
          "metadata": {
            "tags": []
          },
          "execution_count": 55
        }
      ]
    },
    {
      "cell_type": "code",
      "metadata": {
        "colab": {
          "base_uri": "https://localhost:8080/",
          "height": 279
        },
        "id": "DQVgsL_as92v",
        "outputId": "9fe8b5c7-958f-4e8b-f982-1bf0ac80abf7"
      },
      "source": [
        "#plotting the regression line\n",
        "line= reg.intercept_+ reg.coef_*sample_data.Hours\n",
        "sample_data.plot.scatter(\"Hours\",'Scores')\n",
        "plt.plot(sample_data.Hours,line)\n",
        "plt.show()"
      ],
      "execution_count": null,
      "outputs": [
        {
          "output_type": "display_data",
          "data": {
            "image/png": "[encoded data removed]",
            "text/plain": [
              "<Figure size 432x288 with 1 Axes>"
            ]
          },
          "metadata": {
            "tags": [],
            "needs_background": "light"
          }
        }
      ]
    },
    {
      "cell_type": "code",
      "metadata": {
        "colab": {
          "base_uri": "https://localhost:8080/"
        },
        "id": "CLsn3onCuC4m",
        "outputId": "e428af1b-8f99-4a5d-989b-605e4f5358ed"
      },
      "source": [
        "#making predictions\n",
        "y_pred=reg.predict(X_test)\n",
        "result=pd.Series(y_pred,index=y_test)\n",
        "result"
      ],
      "execution_count": null,
      "outputs": [
        {
          "output_type": "execute_result",
          "data": {
            "text/plain": [
              "20    15.337585\n",
              "27    32.720181\n",
              "69    75.665418\n",
              "30    25.562641\n",
              "62    60.327833\n",
              "dtype: float64"
            ]
          },
          "metadata": {
            "tags": []
          },
          "execution_count": 59
        }
      ]
    },
    {
      "cell_type": "code",
      "metadata": {
        "colab": {
          "base_uri": "https://localhost:8080/"
        },
        "id": "6AniuH20u-rC",
        "outputId": "b764a4ac-3c6b-479e-dee5-6c36aac5408e"
      },
      "source": [
        "#testing external data\n",
        "hours=[[9.25]]\n",
        "prediction=reg.predict(hours)\n",
        "prediction[0]"
      ],
      "execution_count": null,
      "outputs": [
        {
          "output_type": "execute_result",
          "data": {
            "text/plain": [
              "94.58177250564873"
            ]
          },
          "metadata": {
            "tags": []
          },
          "execution_count": 62
        }
      ]
    },
    {
      "cell_type": "markdown",
      "metadata": {
        "id": "FYDATAMBvg1L"
      },
      "source": [
        "This shows that if the student studies for 9.25 hours, he can get a score of about 94.58!!\n",
        "This prediction is done using a simple linear regression model and does not guarantee good grades :)"
      ]
    },
    {
      "cell_type": "code",
      "metadata": {
        "colab": {
          "base_uri": "https://localhost:8080/"
        },
        "id": "ARY2cj25vUBq",
        "outputId": "11e88c7e-2823-46ba-c32d-0cf0769cc0ac"
      },
      "source": [
        "#checking r squared\n",
        "from sklearn.metrics import r2_score\n",
        "score=r2_score(y_test,y_pred)\n",
        "score"
      ],
      "execution_count": null,
      "outputs": [
        {
          "output_type": "execute_result",
          "data": {
            "text/plain": [
              "0.9387377974189179"
            ]
          },
          "metadata": {
            "tags": []
          },
          "execution_count": 63
        }
      ]
    },
    {
      "cell_type": "markdown",
      "metadata": {
        "id": "Y3tyhQ_pwx7s"
      },
      "source": [
        "Yay! a decent r squared. This means our model fits about 93% accurately."
      ]
    },
    {
      "cell_type": "code",
      "metadata": {
        "id": "mloEs7k_8SRc"
      },
      "source": [
        " "
      ],
      "execution_count": null,
      "outputs": []
    }
  ]
}